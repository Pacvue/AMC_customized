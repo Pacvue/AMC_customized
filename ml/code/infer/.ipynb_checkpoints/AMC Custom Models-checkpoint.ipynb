{
 "cells": [
  {
   "cell_type": "markdown",
   "id": "2a4e15c5",
   "metadata": {},
   "source": [
    "\n",
    "# ACM Custom Models: SageMaker Notebook Interface\n",
    "\n",
    "This notebook serves as a comprehensive guide for leveraging the AMC Custom Models APIs. It provides Python methods to simplify:\n",
    "\n",
    "1. Creating and managing ML Input Channels\n",
    "2. Initiating and monitoring Trained Models\n",
    "3. Creating and managing Inference Jobs\n",
    "4. Creating and Uploading inference results\n",
    "\n",
    "---\n"
   ]
  },
  {
   "cell_type": "code",
   "execution_count": 4,
   "id": "c9a7caa7",
   "metadata": {},
   "outputs": [],
   "source": [
    "# Import necessary libraries and the handler script\n",
    "from acm_api_handler import MlInputChannel, TrainedModels, TrainedModelInferenceJobs, ManageModeledDatasets"
   ]
  },
  {
   "cell_type": "code",
   "execution_count": 5,
   "id": "03d5e2b4-f58c-4d89-96c0-152247523897",
   "metadata": {},
   "outputs": [],
   "source": [
    "# Initialize handler classes\n",
    "ml_channel_handler = MlInputChannel()\n",
    "trained_model_handler = TrainedModels()\n",
    "inference_job_handler = TrainedModelInferenceJobs()\n",
    "modeled_dataset_handler = ManageModeledDatasets()"
   ]
  },
  {
   "cell_type": "code",
   "execution_count": 6,
   "id": "29ba555d-9656-40fc-a417-8d30e4cb54a2",
   "metadata": {},
   "outputs": [],
   "source": [
    "# Defining the CMAA for Custom LAL\n",
    "configured_model_algorithm_associations = \"<Configured Model Algorithm Association ARN>\""
   ]
  },
  {
   "cell_type": "markdown",
   "id": "ed53ca1e",
   "metadata": {},
   "source": [
    "\n",
    "## 1. ML Input Channels\n",
    "\n",
    "ML Input Channels are used to prepare input datasets for training and inferencing. Each ML Input Channel materializes the results of an SQL query executed on an AMC-ACR collaboration. The query results (CSV files) can then be accessed by your model containers during training and inferencing.\n",
    "\n",
    "#### Usage\n",
    "- ML Input Channel are created by providing an AMC SQL query and associated time window to the AMC API. ML Input Channel stores the query results (data), enabling the data to later be used for training and inferencing. \n",
    "- The AMC SQL Query to create an ML Input Channel does not require aggregation (GROUP BY) in the final SELECT statement.\n",
    "- A single training job can accept up to 20 ML Input Channels. Queries over long time periods can be split into multiple ML Input Channels. \n",
    "- ML Input Channel resources have a TTL of 28 days. After 28 days have passed, the ML Input Channel will become INACTIVE, which is reflected by the status field in the API response. An INACTIVE ML Input Channel cannot be leveraged for training or inferencing. \n",
    "- Each ML Input Channel can be associated with a single Configured Model Algorithm Association (CMAA).\n",
    "\n",
    "#### Tips \n",
    "- Trained Models and Inference Jobs intended for audience creation must use **_for_audiences variants of AMC datasources only. \n",
    "- By specifying enforceUserLevelTargeting=True in the API call, AMC will check if ML Input Channel created is allowed for audience creation.\n",
    "\n",
    "### 1.1 Creating ML Input Channels\n",
    "\n",
    "You can use the `create_ml_input_channel` method to generate input datasets for training or inference.\n"
   ]
  },
  {
   "cell_type": "code",
   "execution_count": 7,
   "id": "ca23a805",
   "metadata": {},
   "outputs": [],
   "source": [
    "# # Template: Create an ML Input Channel\n",
    "try:\n",
    "     ml_input_channel_id = ml_channel_handler.create_ml_input_channel(\n",
    "         name=\"Sample Input Channel\",\n",
    "         model_arn=[\"<CMAA_ARN>\"],\n",
    "         channel_name=\"train\",\n",
    "         sql_query=\"<SQL Query\",\n",
    "         time_start=\"<Query Start Date>\", #Eg: \"2024-01-01T00:00:00\",\n",
    "         time_end==\"<Query End Date>\", #Eg: \"2024-01-31T23:59:59\",\n",
    "         user_level_targeting=True/False\n",
    "     )['mlInputChannelId']\n",
    "     print(\"Created ML Input Channel:\", ml_input_channel_id)\n",
    "    \n",
    "except Exception as e:\n",
    "    print(f\"An error occurred while creating the input channel: {e}\")"
   ]
  },
  {
   "cell_type": "markdown",
   "id": "8005efc2-9e0b-4e85-82de-7486fcc7d5e9",
   "metadata": {},
   "source": [
    "### 1.2 Status of ML Input Channels\n",
    "\n",
    "You can use the `get_ml_input_channel` method to get details about the status of ml input channel."
   ]
  },
  {
   "cell_type": "code",
   "execution_count": null,
   "id": "5c268527-cbc8-40a1-82ad-562bd74646f1",
   "metadata": {},
   "outputs": [],
   "source": [
    "ml_channel_handler.get_ml_input_channel(ml_input_channel_id)"
   ]
  },
  {
   "cell_type": "markdown",
   "id": "9af5fffb-519c-4fb6-a5e6-0a967469e2ce",
   "metadata": {},
   "source": [
    "### 1.3 List All ML Input Channels that was executed\n",
    "\n",
    "You can use the `list_all_ml_input_channels` method to get details about the status of all ml input channel."
   ]
  },
  {
   "cell_type": "code",
   "execution_count": null,
   "id": "e6130aac-4135-4719-b217-77a7f3e0313e",
   "metadata": {},
   "outputs": [],
   "source": [
    "# To list all ml input channels\n",
    "ml_channel_handler.list_all_ml_input_channels()"
   ]
  },
  {
   "cell_type": "code",
   "execution_count": null,
   "id": "89800e7b-116f-4e91-a71d-165753ed7f7a",
   "metadata": {},
   "outputs": [],
   "source": [
    "# To list all active ml input channels\n",
    "ml_channel_handler.list_all_ml_input_channels(status='ACTIVE')"
   ]
  },
  {
   "cell_type": "markdown",
   "id": "65b825a2-5f3c-41c6-a019-b6dc4886588b",
   "metadata": {},
   "source": [
    "### 1.4 List Details of Most Recent ML Input Channels\n",
    "\n",
    "You can use the `list_most_recent_ml_input_channels` method to get details about the status of top x most recent ml input channel."
   ]
  },
  {
   "cell_type": "code",
   "execution_count": null,
   "id": "c92faa2f-c687-47a5-802e-1b515a643124",
   "metadata": {},
   "outputs": [],
   "source": [
    "# To list top x ml input channels\n",
    "ml_channel_handler.list_most_recent_ml_input_channels(top=3)"
   ]
  },
  {
   "cell_type": "code",
   "execution_count": null,
   "id": "e8d344dd-34a6-4623-bcc4-a21945969100",
   "metadata": {},
   "outputs": [],
   "source": [
    "# To list top x successful ml input channels\n",
    "ml_channel_handler.list_most_recent_ml_input_channels(top=3, status='ACTIVE')"
   ]
  },
  {
   "cell_type": "markdown",
   "id": "8f2401b5-7cac-4ad3-8614-9b456503d7c9",
   "metadata": {},
   "source": [
    "### 1.5 Good to Proceed to next step\n",
    "\n",
    "You can use the `is_ready` method to check if the Input Channel is ready and if you are good to proceed to next step"
   ]
  },
  {
   "cell_type": "code",
   "execution_count": null,
   "id": "96427b74-79af-4090-9fa6-fbafa4f33646",
   "metadata": {},
   "outputs": [],
   "source": [
    "# Is ml input channels available\n",
    "ml_channel_handler.is_ready(ml_input_channel_id)"
   ]
  },
  {
   "cell_type": "markdown",
   "id": "b9b9e94f",
   "metadata": {},
   "source": [
    "\n",
    "## 2. Training a Model\n",
    "\n",
    "The Trained Model resource encapsulates a model training job. Creating a trained model will kick- off a training job in AWS Clean Rooms with the specified model algorithm and ML Input Channels (materialized training datasets).\n",
    "\n",
    "#### Usage\n",
    "- Before you initiate a training job, ensure you have associated your model algorithm to the AMC-ACR collaboration. \n",
    "- Once training is complete, serialized model weights must be written to the /opt/ml/model directory. The artifacts stored in this directory can be accessed later during inferencing (e.g., to load your model into memory).\n",
    "\n",
    "#### Tips\n",
    "- AWS Clean Rooms leverages the SageMaker [CreateTrainingJob API](https://docs.aws.amazon.com/sagemaker/latest/APIReference/API_CreateTrainingJob.html). As a best practice, it is recommended to test your training containers on SageMaker using synthetic data from AMC sandbox. \n",
    "- Each training job can accept up to 20 ML Input Channels. Queries over large time windows can be split into multiple ML Input Channels. \n",
    "- Trained Models can only be created with ML Input Channel(s) which are in ACTIVE state. \n",
    "- Trained Models have a TTL of 30 days, AMC will automatically delete Trained Model resources once the TTL has expired.  Model evaluation can be performed during the training job execution. A typical approach is to (1) separate a portion of the training data for testing, (2) leverage the trained model to make predictions on the test data, (3) Log custom metrics (e.g., RMSE, AUC) in the container. If you setup a service role for Clean Rooms to push custom metrics to Cloudwatch, you can access custom metrics in Cloudwatch once the training job is complete.\n",
    "\n",
    "### 2.1 Create Trained Model\n",
    "The `create_trained_model` method triggers model training using specified input channels and parameters.\n"
   ]
  },
  {
   "cell_type": "code",
   "execution_count": null,
   "id": "bba491fc",
   "metadata": {},
   "outputs": [],
   "source": [
    "# # Template: Train a model\n",
    "try:\n",
    "    trained_model_id = trained_model_handler.create_trained_model(\n",
    "        name=\"Sample Trained Model\",\n",
    "        model_arn=\"<CMAA_ARN>\",\n",
    "        input_channels=[ml_input_channel_id], #[ml_input_channel_id_1, ml_input_channel_id_2, ....] \n",
    "        instance_type=\"ml.m5.xlarge\",\n",
    "        instance_count=1,\n",
    "        vol_size=10,\n",
    "        timeout=123400\n",
    "    )['trainedModelId']\n",
    "    print(\"Trained Model ID:\", trained_model_id)\n",
    "    \n",
    "except Exception as e:\n",
    "    print(f\"An error occurred while creating the input channel: {e}\")"
   ]
  },
  {
   "cell_type": "markdown",
   "id": "571fb473-4531-469f-bc2f-62888f3b6449",
   "metadata": {},
   "source": [
    "### 2.2 Status of Trained Model\n",
    "\n",
    "You can use the `get_trained_model` method to get details about the status of Trained Model."
   ]
  },
  {
   "cell_type": "code",
   "execution_count": null,
   "id": "b982216f-f719-4d4b-a8f8-e4ee7349c086",
   "metadata": {},
   "outputs": [],
   "source": [
    "trained_model_handler.get_trained_model(trained_model_id)"
   ]
  },
  {
   "cell_type": "markdown",
   "id": "ee6d5347-1240-47a3-81a8-d96e269f3bfe",
   "metadata": {},
   "source": [
    "### 2.3 List All Trained Models that was executed\n",
    "\n",
    "You can use the `list_all_trained_models` method to get details about the status of all Trained Models."
   ]
  },
  {
   "cell_type": "code",
   "execution_count": null,
   "id": "5b98e48b-0f8f-4cf0-9d34-66c57fd70c4e",
   "metadata": {},
   "outputs": [],
   "source": [
    "# To list all trained models\n",
    "trained_model_handler.list_all_trained_models()"
   ]
  },
  {
   "cell_type": "code",
   "execution_count": null,
   "id": "8fe4c0ba-010f-4d82-b66a-401fa70c5222",
   "metadata": {},
   "outputs": [],
   "source": [
    "# To list all active trained models\n",
    "trained_model_handler.list_all_trained_models(status='SUCCEEDED')"
   ]
  },
  {
   "cell_type": "markdown",
   "id": "cc3c0973-ec33-4f31-841a-a4bb2db21e07",
   "metadata": {},
   "source": [
    "### 2.4 List Details of Most Recent Trained Models\n",
    "\n",
    "You can use the `list_most_recent_ml_input_channels` method to get details about the status of top x most recent Trained Models."
   ]
  },
  {
   "cell_type": "code",
   "execution_count": null,
   "id": "30318126-16e8-4f38-8c64-0ff83c36f917",
   "metadata": {},
   "outputs": [],
   "source": [
    "# To list top x trained models\n",
    "trained_model_handler.list_most_recent_trained_models(top=3)"
   ]
  },
  {
   "cell_type": "code",
   "execution_count": null,
   "id": "d58eca3f-9f43-4fb5-8d57-4bdcc14b6144",
   "metadata": {},
   "outputs": [],
   "source": [
    "# To list top x successful trained models\n",
    "trained_model_handler.list_most_recent_trained_models(top=3, status='SUCCEEDED')"
   ]
  },
  {
   "cell_type": "markdown",
   "id": "b36ea04b-ca5b-4a9e-9154-da8cd46b9b3e",
   "metadata": {
    "tags": []
   },
   "source": [
    "### 2.5 Good to Proceed to next step\n",
    "\n",
    "You can use the `is_ready` method to check if the Model Training is complete and if you are good to proceed to next step"
   ]
  },
  {
   "cell_type": "code",
   "execution_count": null,
   "id": "53d6bf35-d391-46bf-ba80-b9ef48adc920",
   "metadata": {},
   "outputs": [],
   "source": [
    "# Is Trained Model available\n",
    "trained_model_handler.is_ready(trained_model_id)"
   ]
  },
  {
   "cell_type": "markdown",
   "id": "07ef5850",
   "metadata": {},
   "source": [
    "\n",
    "## 3. Running Inference\n",
    "\n",
    "Inference Jobs leverage a Trained Model to generate predictions (inference) on input data (provided via ML Input Channel). Once an inference job is complete, the results can be uploaded to a new AMC dataset and leveraged for audience creation. \n",
    "\n",
    "[Inferencing](https://docs.aws.amazon.com/clean-rooms/latest/userguide/run-inference-jobs.html) in AWS Clean Rooms ML leverages the [SageMaker Batch Transform](https://docs.aws.amazon.com/sagemaker/latest/dg/batch-transform.html) API. The AMC Custom Models QuickStart guide includes instructions for setting up a basic inferencing container. As described in the SageMaker guide for [creating your own inference container](https://docs.aws.amazon.com/sagemaker/latest/dg/adapt-inference-container.html), the container must host a webserver which responds to incoming requests. The incoming request contains batches of data from the ML Input Channel in CSV format. The inferencing container should load the trained model parameters from **opt/ml/model** (saved during training), and respond to inferencing requests by adding additional columns generated by the model.\n",
    "\n",
    "#### Usage\n",
    "- Inference jobs accept an ML Input Channel, Trained Model, and CMA (inference container) as input. The purpose of an inference job is to augment the input data (ML Input Channel) with additional columns containing the model-generated predictions. \n",
    "- The inference job should produce CSV files containing a user_id column, and additional columns which represent the model-generated predictions. The dataset generated during inference can then be uploaded to a new AMC dataset for audience creation.\n",
    "\n",
    "#### Tips\n",
    "\n",
    "- Each Trained Model Inference Job accepts single ML Input Channel (SageMaker limitation). In order generate inference results on large datasets, it is recommended to split the input data into batches (multiple ML Input Channels) and create multiple Trained Model Inference Jobs. The results from each inference job can then be loaded into AMC for audience creation. - See the AMC Custom Models QuickStart guides for a sample inferencing container.\n",
    "\n",
    "### 3.1 Create Inference Job\n",
    "\n",
    "Use the `create_inference_job` method to generate predictions based on trained models.\n"
   ]
  },
  {
   "cell_type": "code",
   "execution_count": null,
   "id": "82494ec6",
   "metadata": {},
   "outputs": [],
   "source": [
    "# # Template: Run an inference job\n",
    "try:\n",
    "    trainedModelInferenceJobId = inference_job_handler.create_inference_job(\n",
    "        name=\"Sample Inference Job\",\n",
    "        model_arn=\"<CMAA_ARN>\",\n",
    "        trained_model_id=trained_model_id,\n",
    "        input_channel_id=ml_input_channel_id,\n",
    "        instance_type=\"ml.m5.xlarge\"\n",
    "    )['trainedModelInferenceJobId']\n",
    "    print(\"Inference Job ID:\", trainedModelInferenceJobId)\n",
    "    \n",
    "except Exception as e:\n",
    "    print(f\"An error occurred while creating the input channel: {e}\")"
   ]
  },
  {
   "cell_type": "markdown",
   "id": "dd89f4af-1e69-4cb1-8adb-f45a63f030b8",
   "metadata": {},
   "source": [
    "### 3.2 Status of Inference Job\n",
    "\n",
    "You can use the `get_inference_job` method to get details about the status of Inference Job."
   ]
  },
  {
   "cell_type": "code",
   "execution_count": null,
   "id": "80af71a5-4c4e-4d23-a9c0-cd0a5206f0a1",
   "metadata": {},
   "outputs": [],
   "source": [
    "inference_job_handler.get_inference_job(trainedModelInferenceJobId)"
   ]
  },
  {
   "cell_type": "markdown",
   "id": "666758fa-d3fd-4cf1-b418-2caaf149d132",
   "metadata": {},
   "source": [
    "### 3.3 List All Inference Job that was executed\n",
    "\n",
    "You can use the `list_all_trained_models` method to get details about the status of all Inference Job."
   ]
  },
  {
   "cell_type": "code",
   "execution_count": null,
   "id": "8a176cd4-0aaa-45bb-93fc-ed3d3e0b3de8",
   "metadata": {},
   "outputs": [],
   "source": [
    "# To list all trained models\n",
    "inference_job_handler.list_all_inference_jobs()"
   ]
  },
  {
   "cell_type": "code",
   "execution_count": null,
   "id": "b4f5badd-79b4-4be1-b077-347f0e5a2c28",
   "metadata": {},
   "outputs": [],
   "source": [
    "# To list all active trained models\n",
    "inference_job_handler.list_all_inference_jobs(status='ACTIVE')"
   ]
  },
  {
   "cell_type": "markdown",
   "id": "6cd13818-994c-4b95-b9e8-51a7afece9bb",
   "metadata": {},
   "source": [
    "### 3.4 List Details of Most Recent Inference Job\n",
    "\n",
    "You can use the `list_most_recent_ml_input_channels` method to get details about the status of top x most recent Inference Job."
   ]
  },
  {
   "cell_type": "code",
   "execution_count": null,
   "id": "12aec863-ad88-4020-b77b-bb60453fc074",
   "metadata": {},
   "outputs": [],
   "source": [
    "# To list top x trained models\n",
    "inference_job_handler.list_all_inference_jobs(top=3)"
   ]
  },
  {
   "cell_type": "code",
   "execution_count": null,
   "id": "88c3aa7e-255f-4ba8-8086-c6bffa9940a0",
   "metadata": {},
   "outputs": [],
   "source": [
    "# To list top x successful trained models\n",
    "inference_job_handler.list_all_inference_jobs(top=3, status='ACTIVE')"
   ]
  },
  {
   "cell_type": "markdown",
   "id": "54455d92-631a-4d1b-91ff-f2330748122e",
   "metadata": {
    "tags": []
   },
   "source": [
    "### 3.5 Good to Proceed to next step\n",
    "\n",
    "You can use the `is_ready` method to check if the Model Inference is complete and if you are good to proceed to next step"
   ]
  },
  {
   "cell_type": "code",
   "execution_count": null,
   "id": "15fc269b-8414-461e-849f-0ae68dba5819",
   "metadata": {},
   "outputs": [],
   "source": [
    "# Is Trained Model available\n",
    "inference_job_handler.is_ready(trainedModelInferenceJobId)"
   ]
  },
  {
   "cell_type": "markdown",
   "id": "9c5e1cff",
   "metadata": {
    "tags": []
   },
   "source": [
    "\n",
    "## 4. Creating Modeled Dataset\n",
    "\n",
    "Modeled datasets are used to store the results of inferences (model predictions) generated by an Inference Job. Once the inference results are uploaded to a Modeled Dataset, the AMC audiences UI and API can be leveraged to create custom model-based audiences (rule-based and lookalikes) for activation on Amazon DSP and Sponsored Ads.\n",
    "\n",
    "#### Usage\n",
    "\n",
    "- Start by creating a Modeled Dataset which matches the schema of the CSV files generated by your inference job(s). \n",
    "- The Modeled Dataset must contain and identity column to store user_id values, and optionally contain any number of additional columns from the inference job output. \n",
    "- For example, say a model generates a conversion_propensity column with float values between [0, 1]. The conversion_propensity column can be uploaded to the Modeled Dataset, enabling audience creation with users above a certain propensity value. \n",
    "- Once the Modeled Dataset is created, you will create Modeled Dataset Upload Jobs to export results of an inference job to the dataset. Each upload job accepts a single inference job.\n",
    "\n",
    "#### Tips\n",
    "\n",
    "- The schema for the Modeled Dataset should match the column headers in the file (e.g., CSV) generated during inference. \n",
    "- Measurement queries on Modeled Datasets is currently not supported. Modeled Datasets can only be used in the AMC Audiences UI and API. \n",
    "- Inference results uploaded to a Modeled Dataset are persisted for 30 days. After 30 days, the uploaded data is removed (cannot be used for audience creation). To avoid audience depletion, inference results should be re-uploaded to the dataset every 30 days at minimum. \n",
    "-  Data deletion at the record level is currently not supported. In order to remove data from AMC, you can delete the Modeled Dataset. \n",
    "- Upload jobs support two update strategies: \n",
    "    - **Full Replace:** Replace the entire contents of the dataset with the results of a given inference job. \n",
    "    - **Additive:** Add the contents of the inference job to the current contents of the dataset.\n",
    "    \n",
    "### 4.1 Create Modeled Dataset\n",
    "\n",
    "Use the `create_dataset` method to generate a new modeled dataset in AMC."
   ]
  },
  {
   "cell_type": "code",
   "execution_count": null,
   "id": "ffc9f6e6",
   "metadata": {},
   "outputs": [],
   "source": [
    "\n",
    "# Template: Create Modeled Dataset\n",
    "try:\n",
    "    modeled_dataset_id = modeled_dataset_handler.create_dataset(\n",
    "        name=\"Sample_Modeled_Dataset\",\n",
    "        description=\"Sample Modeled Dataset Description\",\n",
    "        schema= {\n",
    "            \"tableColumns\": [ \n",
    "                # Required: one column containing AMC user IDs. \n",
    "                { \n",
    "                    \"columnName\": \"user_id\", \n",
    "                    \"description\": \"string\", \n",
    "                    \"userIdColumn\" : True, \n",
    "                    \"dataType\" : \"string\" \n",
    "                },\n",
    "\n",
    "                # Optional: additional column(s) containing inference values\n",
    "                { \n",
    "                    \"columnName\": \"string\", \n",
    "                    \"description\": \"string\", \n",
    "                    \"userIdColumn\" : False, \n",
    "                    \"dataType\" : \"string\" \n",
    "                }\n",
    "            ]\n",
    "        }\n",
    "    )['modeledDatasetId']\n",
    "    print(\"Modeled Dataset ID:\", modeled_dataset_id)\n",
    "    \n",
    "except Exception as e:\n",
    "    print(f\"An error occurred while creating the input channel: {e}\")\n",
    "\n"
   ]
  },
  {
   "cell_type": "markdown",
   "id": "12961937-67a6-4999-b47d-736bd5cc042c",
   "metadata": {},
   "source": [
    "### 4.2 Status of Modeled Dataset \n",
    "\n",
    "You can use the `get_dataset` method to get details about the status of Modeled Dataset."
   ]
  },
  {
   "cell_type": "code",
   "execution_count": null,
   "id": "05c7d54d-dea0-4481-8d5c-3883be7d8cd2",
   "metadata": {},
   "outputs": [],
   "source": [
    "modeled_dataset_handler.get_dataset(modeledDatasetId)"
   ]
  },
  {
   "cell_type": "markdown",
   "id": "34bc22d4-7c01-4b7a-9765-1c00bda39213",
   "metadata": {},
   "source": [
    "### 4.3 List All Modeled Dataset that was executed\n",
    "\n",
    "You can use the `list_all_datasets` method to get details about the status of all Modeled Datasets."
   ]
  },
  {
   "cell_type": "code",
   "execution_count": null,
   "id": "93185969-f0f3-4a13-8407-aff15482dfd7",
   "metadata": {
    "tags": []
   },
   "outputs": [],
   "source": [
    "# To list all trained models\n",
    "modeled_dataset_handler.list_all_datasets()"
   ]
  },
  {
   "cell_type": "code",
   "execution_count": null,
   "id": "6619041a-f51f-44db-a45c-155ff044afef",
   "metadata": {
    "tags": []
   },
   "outputs": [],
   "source": [
    "# To list all active trained models\n",
    "modeled_dataset_handler.list_all_datasets(status='ACTIVE')"
   ]
  },
  {
   "cell_type": "markdown",
   "id": "ed888ff9-8ec6-444f-b476-a92fd7990ddd",
   "metadata": {},
   "source": [
    "### 4.4 List Details of Most Recent Modeled Dataset\n",
    "\n",
    "You can use the `list_most_recent_ml_input_channels` method to get details about the status of top x most recent Inference Job."
   ]
  },
  {
   "cell_type": "code",
   "execution_count": null,
   "id": "394ba6db-596e-4860-9bbc-212cd82734eb",
   "metadata": {
    "tags": []
   },
   "outputs": [],
   "source": [
    "# To list top x trained models\n",
    "modeled_dataset_handler.list_most_recent_datasets(top=3)"
   ]
  },
  {
   "cell_type": "code",
   "execution_count": null,
   "id": "a5f504f4-0df4-4616-a1a4-bd6fdefad8c5",
   "metadata": {
    "tags": []
   },
   "outputs": [],
   "source": [
    "# To list top x successful trained models\n",
    "modeled_dataset_handler.list_most_recent_datasets(top=3, status='ACTIVE')"
   ]
  },
  {
   "cell_type": "markdown",
   "id": "7117ebbe-e299-4cc5-b6f0-a74fdba29d23",
   "metadata": {
    "tags": []
   },
   "source": [
    "### 4.5 Delete the Modeled Dataset (Coming Soon)\n",
    "\n",
    "You can use the `delete_dataset` method to delete the Modeled Dataset Table."
   ]
  },
  {
   "cell_type": "code",
   "execution_count": null,
   "id": "98014d91-128a-41ab-b14d-d1786c662b68",
   "metadata": {
    "tags": []
   },
   "outputs": [],
   "source": [
    "# To list top x trained models\n",
    "modeled_dataset_handler.delete_dataset(modeledDatasetId)"
   ]
  },
  {
   "cell_type": "markdown",
   "id": "e3ab05a7-8c19-4b47-813c-6022756f7a7a",
   "metadata": {
    "tags": []
   },
   "source": [
    "### 4.6 Good to Proceed to next step\n",
    "\n",
    "You can use the `is_ready` method to check if the Model Dataset is complete and if you are good to proceed to next step"
   ]
  },
  {
   "cell_type": "code",
   "execution_count": null,
   "id": "f433ac69-cf3a-4c0b-988c-94508a8d3656",
   "metadata": {},
   "outputs": [],
   "source": [
    "# Is Trained Model available\n",
    "modeled_dataset_handler.is_ready(modeledDatasetId)"
   ]
  },
  {
   "cell_type": "markdown",
   "id": "f10f3054-a434-4dbb-9fe5-33ed49d88980",
   "metadata": {
    "tags": []
   },
   "source": [
    "\n",
    "### 4.7 Create Modeled Dataset Upload\n",
    "\n",
    "Use the `create_dataset_upload` method to generate a new modeled dataset Upload in AMC."
   ]
  },
  {
   "cell_type": "code",
   "execution_count": null,
   "id": "7dc16722-d2d5-40cd-81ba-160fe763b048",
   "metadata": {},
   "outputs": [],
   "source": [
    "\n",
    "# Template: Create Modeled Dataset Upload\n",
    "try:\n",
    "    modeledDatasetUploadJobId = modeled_dataset_handler.create_dataset_upload(\n",
    "       modeled_dataset_id = \"string\",\n",
    "       trained_model_ids = \"string\" or inference_job_ids = \"string\",\n",
    "       update_strategy = \"FULL_REPLACE\",  # [\"FULL_REPLACE\", \"ADDITIVE\"]\n",
    "    )['modeledDatasetUploadJobId']\n",
    "    print(\"Modeled Dataset Upload ID:\", modeledDatasetUploadJobId)\n",
    "    \n",
    "except Exception as e:\n",
    "    print(f\"An error occurred while creating the input channel: {e}\")\n",
    "\n"
   ]
  },
  {
   "cell_type": "markdown",
   "id": "3a1bf968-4e0e-42f9-9d39-15bac1294cdc",
   "metadata": {},
   "source": [
    "### 4.8 Status of Modeled Dataset\n",
    "\n",
    "You can use the `get_dataset_upload` method to get details about the status of Modeled Dataset Upload."
   ]
  },
  {
   "cell_type": "code",
   "execution_count": null,
   "id": "b397a876-cc17-41f9-95c6-06184b7ed1df",
   "metadata": {},
   "outputs": [],
   "source": [
    "modeled_dataset_handler.get_dataset_upload(modeledDatasetUploadJobId)"
   ]
  },
  {
   "cell_type": "markdown",
   "id": "c00d4dfd-0904-48cc-8d09-11f9858640cc",
   "metadata": {},
   "source": [
    "### 4.9 List All Modeled Dataset Upload that was executed\n",
    "\n",
    "You can use the `list_all_dataset_uploads` method to get details about the status of all Modeled Datasets Uploads."
   ]
  },
  {
   "cell_type": "code",
   "execution_count": null,
   "id": "d94bb1a1-9696-4b0d-bae9-ae8324f82ea7",
   "metadata": {
    "tags": []
   },
   "outputs": [],
   "source": [
    "# To list all trained models\n",
    "modeled_dataset_handler.list_all_dataset_uploads()"
   ]
  },
  {
   "cell_type": "code",
   "execution_count": null,
   "id": "aa0612c3-cea7-46d8-b2ff-39bb17f19ff1",
   "metadata": {
    "tags": []
   },
   "outputs": [],
   "source": [
    "# To list all active trained models\n",
    "modeled_dataset_handler.list_all_dataset_uploads(status='ACTIVE')"
   ]
  },
  {
   "cell_type": "markdown",
   "id": "966ef120-b1dd-4869-a025-5398937fb093",
   "metadata": {
    "tags": []
   },
   "source": [
    "### 4.10 List Details of Most Recent Modeled Dataset Uploads\n",
    "\n",
    "You can use the `list_most_recent_dataset_uploads` method to get details about the status of top x most recent Modeled Dataset Upload Jobs."
   ]
  },
  {
   "cell_type": "code",
   "execution_count": null,
   "id": "c34b64d6-d5d3-4703-a6b0-cb38f0c05b19",
   "metadata": {
    "tags": []
   },
   "outputs": [],
   "source": [
    "# To list top x trained models\n",
    "modeled_dataset_handler.list_most_recent_dataset_uploads(top=3)"
   ]
  },
  {
   "cell_type": "code",
   "execution_count": null,
   "id": "e67532af-1281-4dab-8e0d-e785df41f1da",
   "metadata": {
    "tags": []
   },
   "outputs": [],
   "source": [
    "# To list top x successful trained models\n",
    "modeled_dataset_handler.list_most_recent_dataset_uploads(top=3, status='ACTIVE')"
   ]
  },
  {
   "cell_type": "markdown",
   "id": "eea6b103-98fb-4764-90ad-586a200ad3af",
   "metadata": {
    "tags": []
   },
   "source": [
    "### 4.11 Good to Proceed to next step\n",
    "\n",
    "You can use the `is_ready` method to check if the Model Upload is complete and if you are good to proceed to next step"
   ]
  },
  {
   "cell_type": "code",
   "execution_count": null,
   "id": "7fd24ce2-c53b-4ba3-84a8-198a60402242",
   "metadata": {},
   "outputs": [],
   "source": [
    "# Is Trained Model available\n",
    "modeled_dataset_handler.is_ready(modeledDatasetUploadJobId, type='Upload')"
   ]
  }
 ],
 "metadata": {
  "kernelspec": {
   "display_name": "conda_pytorch_p310",
   "language": "python",
   "name": "conda_pytorch_p310"
  },
  "language_info": {
   "codemirror_mode": {
    "name": "ipython",
    "version": 3
   },
   "file_extension": ".py",
   "mimetype": "text/x-python",
   "name": "python",
   "nbconvert_exporter": "python",
   "pygments_lexer": "ipython3",
   "version": "3.10.14"
  }
 },
 "nbformat": 4,
 "nbformat_minor": 5
}
